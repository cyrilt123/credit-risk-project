{
 "cells": [
  {
   "cell_type": "markdown",
   "id": "9350870e-c563-43a2-bcf3-cce01baedde5",
   "metadata": {},
   "source": [
    "## Loading data and other prelim cleanining"
   ]
  },
  {
   "cell_type": "code",
   "execution_count": 49,
   "id": "6daadd94-692d-4812-add5-a55509fc720a",
   "metadata": {},
   "outputs": [
    {
     "name": "stdout",
     "output_type": "stream",
     "text": [
      "Dataset Information:\n",
      "<class 'pandas.core.frame.DataFrame'>\n",
      "RangeIndex: 1000 entries, 0 to 999\n",
      "Data columns (total 21 columns):\n",
      " #   Column       Non-Null Count  Dtype \n",
      "---  ------       --------------  ----- \n",
      " 0   Attribute1   1000 non-null   object\n",
      " 1   Attribute2   1000 non-null   int64 \n",
      " 2   Attribute3   1000 non-null   object\n",
      " 3   Attribute4   1000 non-null   object\n",
      " 4   Attribute5   1000 non-null   int64 \n",
      " 5   Attribute6   1000 non-null   object\n",
      " 6   Attribute7   1000 non-null   object\n",
      " 7   Attribute8   1000 non-null   int64 \n",
      " 8   Attribute9   1000 non-null   object\n",
      " 9   Attribute10  1000 non-null   object\n",
      " 10  Attribute11  1000 non-null   int64 \n",
      " 11  Attribute12  1000 non-null   object\n",
      " 12  Attribute13  1000 non-null   int64 \n",
      " 13  Attribute14  1000 non-null   object\n",
      " 14  Attribute15  1000 non-null   object\n",
      " 15  Attribute16  1000 non-null   int64 \n",
      " 16  Attribute17  1000 non-null   object\n",
      " 17  Attribute18  1000 non-null   int64 \n",
      " 18  Attribute19  1000 non-null   object\n",
      " 19  Attribute20  1000 non-null   object\n",
      " 20  class        1000 non-null   int64 \n",
      "dtypes: int64(8), object(13)\n",
      "memory usage: 164.2+ KB\n",
      "\n",
      "First few rows of the dataset:\n",
      "  Attribute1  Attribute2 Attribute3 Attribute4  Attribute5 Attribute6  \\\n",
      "0        A11           6        A34        A43        1169        A65   \n",
      "1        A12          48        A32        A43        5951        A61   \n",
      "2        A14          12        A34        A46        2096        A61   \n",
      "3        A11          42        A32        A42        7882        A61   \n",
      "4        A11          24        A33        A40        4870        A61   \n",
      "\n",
      "  Attribute7  Attribute8 Attribute9 Attribute10  ...  Attribute12 Attribute13  \\\n",
      "0        A75           4        A93        A101  ...         A121          67   \n",
      "1        A73           2        A92        A101  ...         A121          22   \n",
      "2        A74           2        A93        A101  ...         A121          49   \n",
      "3        A74           2        A93        A103  ...         A122          45   \n",
      "4        A73           3        A93        A101  ...         A124          53   \n",
      "\n",
      "   Attribute14 Attribute15 Attribute16  Attribute17 Attribute18  Attribute19  \\\n",
      "0         A143        A152           2         A173           1         A192   \n",
      "1         A143        A152           1         A173           1         A191   \n",
      "2         A143        A152           1         A172           2         A191   \n",
      "3         A143        A153           1         A173           2         A191   \n",
      "4         A143        A153           2         A173           2         A191   \n",
      "\n",
      "  Attribute20 class  \n",
      "0        A201     1  \n",
      "1        A201     2  \n",
      "2        A201     1  \n",
      "3        A201     1  \n",
      "4        A201     2  \n",
      "\n",
      "[5 rows x 21 columns]\n"
     ]
    }
   ],
   "source": [
    "import pandas as pd\n",
    "\n",
    "# Load the dataset\n",
    "df = pd.read_csv(r'..\\data\\german_credit_data.csv')\n",
    "\n",
    "# Display basic information about the dataset\n",
    "print(\"Dataset Information:\")\n",
    "df.info()\n",
    "\n",
    "print(\"\\nFirst few rows of the dataset:\")\n",
    "print(df.head())\n"
   ]
  },
  {
   "cell_type": "code",
   "execution_count": 50,
   "id": "a765a67d-c222-4f9d-9d7e-b7cd41789139",
   "metadata": {},
   "outputs": [
    {
     "name": "stdout",
     "output_type": "stream",
     "text": [
      "Missing values in the dataset:\n",
      "Attribute1     0\n",
      "Attribute2     0\n",
      "Attribute3     0\n",
      "Attribute4     0\n",
      "Attribute5     0\n",
      "Attribute6     0\n",
      "Attribute7     0\n",
      "Attribute8     0\n",
      "Attribute9     0\n",
      "Attribute10    0\n",
      "Attribute11    0\n",
      "Attribute12    0\n",
      "Attribute13    0\n",
      "Attribute14    0\n",
      "Attribute15    0\n",
      "Attribute16    0\n",
      "Attribute17    0\n",
      "Attribute18    0\n",
      "Attribute19    0\n",
      "Attribute20    0\n",
      "class          0\n",
      "dtype: int64\n"
     ]
    }
   ],
   "source": [
    "# Check for missing values\n",
    "print(\"Missing values in the dataset:\")\n",
    "print(df.isnull().sum())\n"
   ]
  },
  {
   "cell_type": "code",
   "execution_count": 51,
   "id": "c82fe431-ea4c-4950-9d77-18da61520ae8",
   "metadata": {},
   "outputs": [
    {
     "name": "stdout",
     "output_type": "stream",
     "text": [
      "        Attribute2    Attribute5   Attribute8  Attribute11  Attribute13  \\\n",
      "count  1000.000000   1000.000000  1000.000000  1000.000000  1000.000000   \n",
      "mean     20.903000   3271.258000     2.973000     2.845000    35.546000   \n",
      "std      12.058814   2822.736876     1.118715     1.103718    11.375469   \n",
      "min       4.000000    250.000000     1.000000     1.000000    19.000000   \n",
      "25%      12.000000   1365.500000     2.000000     2.000000    27.000000   \n",
      "50%      18.000000   2319.500000     3.000000     3.000000    33.000000   \n",
      "75%      24.000000   3972.250000     4.000000     4.000000    42.000000   \n",
      "max      72.000000  18424.000000     4.000000     4.000000    75.000000   \n",
      "\n",
      "       Attribute16  Attribute18        class  \n",
      "count  1000.000000  1000.000000  1000.000000  \n",
      "mean      1.407000     1.155000     1.300000  \n",
      "std       0.577654     0.362086     0.458487  \n",
      "min       1.000000     1.000000     1.000000  \n",
      "25%       1.000000     1.000000     1.000000  \n",
      "50%       1.000000     1.000000     1.000000  \n",
      "75%       2.000000     1.000000     2.000000  \n",
      "max       4.000000     2.000000     2.000000  \n"
     ]
    }
   ],
   "source": [
    "# Summary statistics\n",
    "print(df.describe())\n"
   ]
  },
  {
   "cell_type": "code",
   "execution_count": 52,
   "id": "33fd91ad-a476-403b-9c85-872c9217ffbe",
   "metadata": {},
   "outputs": [
    {
     "name": "stdout",
     "output_type": "stream",
     "text": [
      "Attribute1: ['A11' 'A12' 'A14' 'A13']\n",
      "Attribute3: ['A34' 'A32' 'A33' 'A30' 'A31']\n",
      "Attribute4: ['A43' 'A46' 'A42' 'A40' 'A41' 'A49' 'A44' 'A45' 'A410' 'A48']\n",
      "Attribute6: ['A65' 'A61' 'A63' 'A64' 'A62']\n",
      "Attribute7: ['A75' 'A73' 'A74' 'A71' 'A72']\n",
      "Attribute9: ['A93' 'A92' 'A91' 'A94']\n",
      "Attribute10: ['A101' 'A103' 'A102']\n",
      "Attribute12: ['A121' 'A122' 'A124' 'A123']\n",
      "Attribute14: ['A143' 'A141' 'A142']\n",
      "Attribute15: ['A152' 'A153' 'A151']\n",
      "Attribute17: ['A173' 'A172' 'A174' 'A171']\n",
      "Attribute19: ['A192' 'A191']\n",
      "Attribute20: ['A201' 'A202']\n"
     ]
    }
   ],
   "source": [
    "# Unique values in each column\n",
    "for col in df.select_dtypes(include='object').columns:\n",
    "    print(f\"{col}: {df[col].unique()}\")\n"
   ]
  },
  {
   "cell_type": "code",
   "execution_count": 53,
   "id": "555bcac0-3e5c-4b8a-9c24-7f08cc592c1d",
   "metadata": {},
   "outputs": [],
   "source": [
    "# Rename columns based on the provided table\n",
    "df.columns = [\n",
    "    \"Status_Checking_Account\", \"Duration\", \"Credit_History\", \"Purpose\", \n",
    "    \"Credit_Amount\", \"Savings_Account_Bonds\", \"Employment_Since\", \n",
    "    \"Installment_Rate\", \"Personal_Status_Sex\", \"Other_Debtors_Guarantors\",\n",
    "    \"Residence_Since\", \"Property\", \"Age\", \"Other_Installment_Plans\", \n",
    "    \"Housing\", \"Existing_Credits\", \"Job\", \"Liable_People\", \"Telephone\", \n",
    "    \"Foreign_Worker\", \"Class\"\n",
    "]\n"
   ]
  },
  {
   "cell_type": "code",
   "execution_count": 54,
   "id": "f1df0d0f-ee61-4751-99ff-3f6ea44e9ae1",
   "metadata": {},
   "outputs": [],
   "source": [
    "# Convert columns to their correct data types\n",
    "df = df.astype({\n",
    "    \"Status_Checking_Account\": \"category\",\n",
    "    \"Duration\": \"int\",\n",
    "    \"Credit_History\": \"category\",\n",
    "    \"Purpose\": \"category\",\n",
    "    \"Credit_Amount\": \"int\",\n",
    "    \"Savings_Account_Bonds\": \"category\",\n",
    "    \"Employment_Since\": \"category\",\n",
    "    \"Installment_Rate\": \"int\",\n",
    "    \"Personal_Status_Sex\": \"category\",\n",
    "    \"Other_Debtors_Guarantors\": \"category\",\n",
    "    \"Residence_Since\": \"int\",\n",
    "    \"Property\": \"category\",\n",
    "    \"Age\": \"int\",\n",
    "    \"Other_Installment_Plans\": \"category\",\n",
    "    \"Housing\": \"category\",\n",
    "    \"Existing_Credits\": \"int\",\n",
    "    \"Job\": \"category\",\n",
    "    \"Liable_People\": \"int\",\n",
    "    \"Telephone\": \"category\",\n",
    "    \"Foreign_Worker\": \"category\",\n",
    "    \"Class\": \"category\"\n",
    "})\n"
   ]
  },
  {
   "cell_type": "code",
   "execution_count": 55,
   "id": "1d805437-eee8-429e-8fa6-66a43212b7f8",
   "metadata": {},
   "outputs": [],
   "source": [
    "# Map Class to Good/Bad\n",
    "df[\"Class\"] = df[\"Class\"].map({1: \"Good\", 2: \"Bad\"})\n"
   ]
  },
  {
   "cell_type": "code",
   "execution_count": 56,
   "id": "de603ff5-6022-460d-864e-1c278700cc0e",
   "metadata": {},
   "outputs": [
    {
     "name": "stdout",
     "output_type": "stream",
     "text": [
      "<class 'pandas.core.frame.DataFrame'>\n",
      "RangeIndex: 1000 entries, 0 to 999\n",
      "Data columns (total 21 columns):\n",
      " #   Column                    Non-Null Count  Dtype   \n",
      "---  ------                    --------------  -----   \n",
      " 0   Status_Checking_Account   1000 non-null   category\n",
      " 1   Duration                  1000 non-null   int32   \n",
      " 2   Credit_History            1000 non-null   category\n",
      " 3   Purpose                   1000 non-null   category\n",
      " 4   Credit_Amount             1000 non-null   int32   \n",
      " 5   Savings_Account_Bonds     1000 non-null   category\n",
      " 6   Employment_Since          1000 non-null   category\n",
      " 7   Installment_Rate          1000 non-null   int32   \n",
      " 8   Personal_Status_Sex       1000 non-null   category\n",
      " 9   Other_Debtors_Guarantors  1000 non-null   category\n",
      " 10  Residence_Since           1000 non-null   int32   \n",
      " 11  Property                  1000 non-null   category\n",
      " 12  Age                       1000 non-null   int32   \n",
      " 13  Other_Installment_Plans   1000 non-null   category\n",
      " 14  Housing                   1000 non-null   category\n",
      " 15  Existing_Credits          1000 non-null   int32   \n",
      " 16  Job                       1000 non-null   category\n",
      " 17  Liable_People             1000 non-null   int32   \n",
      " 18  Telephone                 1000 non-null   category\n",
      " 19  Foreign_Worker            1000 non-null   category\n",
      " 20  Class                     1000 non-null   category\n",
      "dtypes: category(14), int32(7)\n",
      "memory usage: 43.7 KB\n",
      "None\n",
      "  Status_Checking_Account  Duration Credit_History Purpose  Credit_Amount  \\\n",
      "0                     A11         6            A34     A43           1169   \n",
      "1                     A12        48            A32     A43           5951   \n",
      "2                     A14        12            A34     A46           2096   \n",
      "3                     A11        42            A32     A42           7882   \n",
      "4                     A11        24            A33     A40           4870   \n",
      "\n",
      "  Savings_Account_Bonds Employment_Since  Installment_Rate  \\\n",
      "0                   A65              A75                 4   \n",
      "1                   A61              A73                 2   \n",
      "2                   A61              A74                 2   \n",
      "3                   A61              A74                 2   \n",
      "4                   A61              A73                 3   \n",
      "\n",
      "  Personal_Status_Sex Other_Debtors_Guarantors  ...  Property Age  \\\n",
      "0                 A93                     A101  ...      A121  67   \n",
      "1                 A92                     A101  ...      A121  22   \n",
      "2                 A93                     A101  ...      A121  49   \n",
      "3                 A93                     A103  ...      A122  45   \n",
      "4                 A93                     A101  ...      A124  53   \n",
      "\n",
      "   Other_Installment_Plans Housing Existing_Credits   Job Liable_People  \\\n",
      "0                     A143    A152                2  A173             1   \n",
      "1                     A143    A152                1  A173             1   \n",
      "2                     A143    A152                1  A172             2   \n",
      "3                     A143    A153                1  A173             2   \n",
      "4                     A143    A153                2  A173             2   \n",
      "\n",
      "   Telephone Foreign_Worker Class  \n",
      "0       A192           A201  Good  \n",
      "1       A191           A201   Bad  \n",
      "2       A191           A201  Good  \n",
      "3       A191           A201  Good  \n",
      "4       A191           A201   Bad  \n",
      "\n",
      "[5 rows x 21 columns]\n"
     ]
    }
   ],
   "source": [
    "# Display data info\n",
    "print(df.info())\n",
    "\n",
    "# Display the first few rows\n",
    "print(df.head())\n"
   ]
  },
  {
   "cell_type": "code",
   "execution_count": 57,
   "id": "382c9620-3652-4824-bba6-83fc8cb24c40",
   "metadata": {},
   "outputs": [
    {
     "name": "stdout",
     "output_type": "stream",
     "text": [
      "enamed_german_credit_data.csv'ved to 'data\n"
     ]
    }
   ],
   "source": [
    "# Save the updated dataset\n",
    "df.to_csv(r'..\\data\\renamed_german_credit_data.csv', index=False)\n",
    "print(\"Renamed and cleaned dataset saved to 'data\\renamed_german_credit_data.csv'\")\n"
   ]
  },
  {
   "cell_type": "code",
   "execution_count": 58,
   "id": "453c42a8-2a22-4820-84c9-e734a8860b67",
   "metadata": {},
   "outputs": [
    {
     "name": "stdout",
     "output_type": "stream",
     "text": [
      "Duplicate rows: 0\n"
     ]
    }
   ],
   "source": [
    "# Check for duplicates\n",
    "print(\"Duplicate rows:\", df.duplicated().sum())\n"
   ]
  },
  {
   "cell_type": "code",
   "execution_count": 59,
   "id": "3a9786ab-7ccc-451e-859d-90d715e38b12",
   "metadata": {},
   "outputs": [
    {
     "data": {
      "image/png": "[encoded data removed]",
      "text/plain": [
       "<Figure size 640x480 with 1 Axes>"
      ]
     },
     "metadata": {},
     "output_type": "display_data"
    },
    {
     "data": {
      "image/png": "[encoded data removed]",
      "text/plain": [
       "<Figure size 640x480 with 1 Axes>"
      ]
     },
     "metadata": {},
     "output_type": "display_data"
    },
    {
     "data": {
      "image/png": "[encoded data removed]",
      "text/plain": [
       "<Figure size 640x480 with 1 Axes>"
      ]
     },
     "metadata": {},
     "output_type": "display_data"
    },
    {
     "data": {
      "image/png": "[encoded data removed]",
      "text/plain": [
       "<Figure size 640x480 with 1 Axes>"
      ]
     },
     "metadata": {},
     "output_type": "display_data"
    },
    {
     "data": {
      "image/png": "[encoded data removed]",
      "text/plain": [
       "<Figure size 640x480 with 1 Axes>"
      ]
     },
     "metadata": {},
     "output_type": "display_data"
    },
    {
     "data": {
      "image/png": "[encoded data removed]",
      "text/plain": [
       "<Figure size 640x480 with 1 Axes>"
      ]
     },
     "metadata": {},
     "output_type": "display_data"
    }
   ],
   "source": [
    "import seaborn as sns\n",
    "import matplotlib.pyplot as plt\n",
    "\n",
    "# Plot boxplots for numerical features\n",
    "numerical_features = [\"Duration\", \"Credit_Amount\", \"Installment_Rate\", \"Age\", \"Existing_Credits\", \"Liable_People\"]\n",
    "for feature in numerical_features:\n",
    "    sns.boxplot(x=df[feature])\n",
    "    plt.title(f\"Boxplot of {feature}\")\n",
    "    plt.show()\n"
   ]
  },
  {
   "cell_type": "markdown",
   "id": "4145c870-1957-4e2c-b3c8-c8fbf983bc4e",
   "metadata": {},
   "source": [
    "## Feature Engineering"
   ]
  },
  {
   "cell_type": "code",
   "execution_count": 60,
   "id": "d7b12db4-2be1-4cad-bf0b-986c3c83c4ff",
   "metadata": {},
   "outputs": [],
   "source": [
    "# Create Debt to income ratio\n",
    "df[\"Debt_To_Income_Ratio\"] = df[\"Credit_Amount\"] / df[\"Duration\"]\n",
    "\n",
    "#Create Age group bins\n",
    "df[\"Age_Group\"] = pd.cut(df[\"Age\"], bins=[0, 25, 40, 60, 100], labels=[\"Youth\", \"Adult\", \"Middle_Aged\", \"Senior\"])\n",
    "\n",
    "\n"
   ]
  },
  {
   "cell_type": "code",
   "execution_count": 61,
   "id": "7d2b6fab-db4e-4935-b2db-6164e1068075",
   "metadata": {},
   "outputs": [
    {
     "name": "stdout",
     "output_type": "stream",
     "text": [
      "Categorical variables: Index(['Status_Checking_Account', 'Credit_History', 'Purpose',\n",
      "       'Savings_Account_Bonds', 'Employment_Since', 'Personal_Status_Sex',\n",
      "       'Other_Debtors_Guarantors', 'Property', 'Other_Installment_Plans',\n",
      "       'Housing', 'Job', 'Telephone', 'Foreign_Worker', 'Class', 'Age_Group'],\n",
      "      dtype='object')\n"
     ]
    }
   ],
   "source": [
    "# Identify all categorical variables for one hot encoding\n",
    "categorical_features = df.select_dtypes(include=['category', 'object']).columns\n",
    "print(\"Categorical variables:\", categorical_features)\n"
   ]
  },
  {
   "cell_type": "code",
   "execution_count": 62,
   "id": "90b88273-6591-4168-a492-d1edd19c115c",
   "metadata": {},
   "outputs": [],
   "source": [
    "# One-hot encode all categorical features\n",
    "# Identify categorical and numeric variables\n",
    "categorical_variables = [\n",
    "    \"Status_Checking_Account\", \"Credit_History\", \"Purpose\", \n",
    "    \"Savings_Account_Bonds\", \"Employment_Since\", \"Personal_Status_Sex\", \n",
    "    \"Other_Debtors_Guarantors\", \"Property\", \"Other_Installment_Plans\", \n",
    "    \"Housing\", \"Job\", \"Telephone\", \"Foreign_Worker\", \"Age_Group\"\n",
    "]\n",
    "\n",
    "numeric_variables = [\n",
    "    \"Duration\", \"Credit_Amount\", \"Installment_Rate\", \"Age\", \n",
    "    \"Existing_Credits\", \"Liable_People\", \"Debt_To_Income_Ratio\"\n",
    "]\n"
   ]
  },
  {
   "cell_type": "code",
   "execution_count": 63,
   "id": "5b7ee61c-a6ee-40e3-bf15-0e1131bba631",
   "metadata": {},
   "outputs": [
    {
     "name": "stdout",
     "output_type": "stream",
     "text": [
      "One-hot encoding completed.\n",
      "Dataset shape after encoding: (1000, 53)\n"
     ]
    }
   ],
   "source": [
    "# Perform one-hot encoding\n",
    "df_encoded = pd.get_dummies(df, columns=categorical_variables, drop_first=True)\n",
    "\n",
    "print(\"One-hot encoding completed.\")\n",
    "print(f\"Dataset shape after encoding: {df_encoded.shape}\")\n",
    "\n"
   ]
  },
  {
   "cell_type": "code",
   "execution_count": 64,
   "id": "6d83ca8c-05b4-47fc-a7ef-dff2717f3fa7",
   "metadata": {},
   "outputs": [
    {
     "name": "stdout",
     "output_type": "stream",
     "text": [
      "Numeric variables scaled.\n"
     ]
    }
   ],
   "source": [
    "from sklearn.preprocessing import StandardScaler\n",
    "\n",
    "# Initialize scaler\n",
    "scaler = StandardScaler()\n",
    "\n",
    "# Scale numeric variables\n",
    "df_encoded[numeric_variables] = scaler.fit_transform(df_encoded[numeric_variables])\n",
    "\n",
    "print(\"Numeric variables scaled.\")\n"
   ]
  },
  {
   "cell_type": "code",
   "execution_count": 65,
   "id": "1f8d31cd-7c51-4ca4-ac37-68b86c38b3ed",
   "metadata": {},
   "outputs": [
    {
     "name": "stdout",
     "output_type": "stream",
     "text": [
      "Preprocessed dataset saved to 'data\\preprocessed_german_credit_data.csv'\n"
     ]
    },
    {
     "name": "stderr",
     "output_type": "stream",
     "text": [
      "<>:4: SyntaxWarning: invalid escape sequence '\\p'\n",
      "<>:4: SyntaxWarning: invalid escape sequence '\\p'\n",
      "C:\\Users\\cyrch\\AppData\\Local\\Temp\\ipykernel_37644\\1170378080.py:4: SyntaxWarning: invalid escape sequence '\\p'\n",
      "  print(\"Preprocessed dataset saved to 'data\\preprocessed_german_credit_data.csv'\")\n"
     ]
    }
   ],
   "source": [
    "# Save the preprocessed dataset\n",
    "df_encoded.to_csv(r'..\\data\\preprocessed_german_credit_data.csv', index=False)\n",
    "\n",
    "print(\"Preprocessed dataset saved to 'data\\preprocessed_german_credit_data.csv'\")\n"
   ]
  },
  {
   "cell_type": "markdown",
   "id": "bf53bf99-3d09-4468-9101-54f1e96d5f5a",
   "metadata": {},
   "source": [
    "## Training and testing data\n"
   ]
  },
  {
   "cell_type": "code",
   "execution_count": 66,
   "id": "8982f7ee-7997-4b26-9563-7d363d5bfa13",
   "metadata": {},
   "outputs": [
    {
     "name": "stdout",
     "output_type": "stream",
     "text": [
      "Training set size: (800, 52)\n",
      "Testing set size: (200, 52)\n"
     ]
    }
   ],
   "source": [
    "from sklearn.model_selection import train_test_split\n",
    "\n",
    "# Separate features (X) and target (y)\n",
    "X = df_encoded.drop(columns=[\"Class\"])\n",
    "y = df_encoded[\"Class\"]\n",
    "\n",
    "\n",
    "# Split data into training and testing sets (80/20)\n",
    "X_train, X_test, y_train, y_test = train_test_split(X, y, test_size=0.2, random_state=42, stratify=y)\n",
    "\n",
    "print(f\"Training set size: {X_train.shape}\")\n",
    "print(f\"Testing set size: {X_test.shape}\")\n"
   ]
  },
  {
   "cell_type": "code",
   "execution_count": 70,
   "id": "c111d7d5-cbe8-4504-90e2-39d70cdad6a2",
   "metadata": {},
   "outputs": [
    {
     "name": "stdout",
     "output_type": "stream",
     "text": [
      "Feature names saved.\n"
     ]
    }
   ],
   "source": [
    "# Save feature names to a file\n",
    "import pickle\n",
    "\n",
    "feature_names = X.columns.tolist()  # X is the DataFrame used for training\n",
    "with open(r'..\\outputs\\feature_names.pkl', 'wb') as f:\n",
    "    pickle.dump(feature_names, f)\n",
    "\n",
    "print(\"Feature names saved.\")\n",
    "\n"
   ]
  },
  {
   "cell_type": "markdown",
   "id": "2698f50f-13db-4e40-8a28-817210cb6e96",
   "metadata": {},
   "source": [
    "## Logistic Regression"
   ]
  },
  {
   "cell_type": "code",
   "execution_count": 37,
   "id": "efcc69f8-5bca-47c9-af0f-afdefa6ac0aa",
   "metadata": {},
   "outputs": [
    {
     "name": "stdout",
     "output_type": "stream",
     "text": [
      "Logistic Regression model trained.\n"
     ]
    }
   ],
   "source": [
    "from sklearn.linear_model import LogisticRegression\n",
    "\n",
    "# Initialize Logistic Regression model\n",
    "logreg = LogisticRegression(random_state=42)\n",
    "\n",
    "# Train the model\n",
    "logreg.fit(X_train, y_train)\n",
    "\n",
    "print(\"Logistic Regression model trained.\")\n"
   ]
  },
  {
   "cell_type": "code",
   "execution_count": 38,
   "id": "f3aed6b4-ce31-4896-a06d-086b2188fa11",
   "metadata": {},
   "outputs": [
    {
     "name": "stdout",
     "output_type": "stream",
     "text": [
      "Accuracy: 0.7200\n",
      "Precision: 0.7800\n",
      "Recall: 0.8357\n",
      "F1-Score: 0.8069\n",
      "AUC: 0.7590\n"
     ]
    }
   ],
   "source": [
    "from sklearn.metrics import accuracy_score, precision_score, recall_score, f1_score, roc_auc_score\n",
    "\n",
    "# Make predictions on the test set\n",
    "y_pred = logreg.predict(X_test)\n",
    "y_pred_proba = logreg.predict_proba(X_test)[:, 1]\n",
    "\n",
    "# Calculate evaluation metrics\n",
    "accuracy = accuracy_score(y_test, y_pred)\n",
    "precision = precision_score(y_test, y_pred, pos_label=\"Good\")\n",
    "recall = recall_score(y_test, y_pred, pos_label=\"Good\")\n",
    "f1 = f1_score(y_test, y_pred, pos_label=\"Good\")\n",
    "auc = roc_auc_score(y_test.map({\"Good\": 1, \"Bad\": 0}), y_pred_proba)\n",
    "\n",
    "print(f\"Accuracy: {accuracy:.4f}\")\n",
    "print(f\"Precision: {precision:.4f}\")\n",
    "print(f\"Recall: {recall:.4f}\")\n",
    "print(f\"F1-Score: {f1:.4f}\")\n",
    "print(f\"AUC: {auc:.4f}\")\n"
   ]
  },
  {
   "cell_type": "markdown",
   "id": "f2833acd-f725-4187-a213-243827e07ddd",
   "metadata": {},
   "source": [
    "## Random Forest"
   ]
  },
  {
   "cell_type": "code",
   "execution_count": 71,
   "id": "7648acf4-a0ae-46b0-b7fb-c7bd1be0790c",
   "metadata": {},
   "outputs": [
    {
     "name": "stdout",
     "output_type": "stream",
     "text": [
      "Random Forest - Accuracy: 0.7450\n",
      "Random Forest - Precision: 0.7697\n",
      "Random Forest - Recall: 0.9071\n",
      "Random Forest - F1-Score: 0.8328\n",
      "Random Forest - AUC: 0.7677\n"
     ]
    }
   ],
   "source": [
    "from sklearn.ensemble import RandomForestClassifier\n",
    "\n",
    "# Encode target variable\n",
    "y_encoded = y.map({\"Good\": 1, \"Bad\": 0})\n",
    "\n",
    "# Initialize Random Forest model\n",
    "rf = RandomForestClassifier(random_state=42, n_estimators=100)\n",
    "\n",
    "# Train the model\n",
    "rf.fit(X_train, y_train)\n",
    "\n",
    "# Make predictions\n",
    "y_pred_rf = rf.predict(X_test)\n",
    "y_pred_proba_rf = rf.predict_proba(X_test)[:, 1]\n",
    "\n",
    "# Calculate evaluation metrics\n",
    "accuracy_rf = accuracy_score(y_test, y_pred_rf)\n",
    "precision_rf = precision_score(y_test, y_pred_rf, pos_label=\"Good\")\n",
    "recall_rf = recall_score(y_test, y_pred_rf, pos_label=\"Good\")\n",
    "f1_rf = f1_score(y_test, y_pred_rf, pos_label=\"Good\")\n",
    "auc_rf = roc_auc_score(y_test.map({\"Good\": 1, \"Bad\": 0}), y_pred_proba_rf)\n",
    "\n",
    "print(f\"Random Forest - Accuracy: {accuracy_rf:.4f}\")\n",
    "print(f\"Random Forest - Precision: {precision_rf:.4f}\")\n",
    "print(f\"Random Forest - Recall: {recall_rf:.4f}\")\n",
    "print(f\"Random Forest - F1-Score: {f1_rf:.4f}\")\n",
    "print(f\"Random Forest - AUC: {auc_rf:.4f}\")\n"
   ]
  },
  {
   "cell_type": "markdown",
   "id": "c13bbf4f-c8c7-4d70-9e05-afd5302774a8",
   "metadata": {},
   "source": [
    "## XG BOOST"
   ]
  },
  {
   "cell_type": "code",
   "execution_count": 42,
   "id": "1de55f4b-d7fc-4764-af84-2f164c7e0440",
   "metadata": {},
   "outputs": [],
   "source": [
    "# Encode target variable\n",
    "y_train_encoded = y_train.map({\"Good\": 1, \"Bad\": 0})\n",
    "y_test_encoded = y_test.map({\"Good\": 1, \"Bad\": 0})\n"
   ]
  },
  {
   "cell_type": "code",
   "execution_count": 43,
   "id": "8f98cb07-4aa9-4344-8b5f-48ebe5cf35cd",
   "metadata": {},
   "outputs": [
    {
     "name": "stderr",
     "output_type": "stream",
     "text": [
      "C:\\Users\\cyrch\\AppData\\Local\\Programs\\Python\\Python312\\Lib\\site-packages\\xgboost\\core.py:158: UserWarning: [20:17:46] WARNING: C:\\buildkite-agent\\builds\\buildkite-windows-cpu-autoscaling-group-i-0c55ff5f71b100e98-1\\xgboost\\xgboost-ci-windows\\src\\learner.cc:740: \n",
      "Parameters: { \"use_label_encoder\" } are not used.\n",
      "\n",
      "  warnings.warn(smsg, UserWarning)\n"
     ]
    },
    {
     "name": "stdout",
     "output_type": "stream",
     "text": [
      "XGBoost model trained.\n"
     ]
    }
   ],
   "source": [
    "from xgboost import XGBClassifier\n",
    "\n",
    "# Initialize XGBoost model\n",
    "xgb = XGBClassifier(random_state=42, use_label_encoder=False, eval_metric=\"logloss\")\n",
    "\n",
    "# Train the model\n",
    "xgb.fit(X_train, y_train_encoded)\n",
    "\n",
    "print(\"XGBoost model trained.\")\n"
   ]
  },
  {
   "cell_type": "code",
   "execution_count": 44,
   "id": "6cb3d1e6-874e-4819-906b-640f1a9eddd8",
   "metadata": {},
   "outputs": [
    {
     "name": "stdout",
     "output_type": "stream",
     "text": [
      "XGBoost - Accuracy: 0.7100\n",
      "XGBoost - Precision: 0.7697\n",
      "XGBoost - Recall: 0.8357\n",
      "XGBoost - F1-Score: 0.8014\n",
      "XGBoost - AUC: 0.7288\n"
     ]
    }
   ],
   "source": [
    "# Make predictions\n",
    "y_pred_xgb = xgb.predict(X_test)\n",
    "y_pred_proba_xgb = xgb.predict_proba(X_test)[:, 1]\n",
    "\n",
    "# Calculate evaluation metrics\n",
    "accuracy_xgb = accuracy_score(y_test_encoded, y_pred_xgb)\n",
    "precision_xgb = precision_score(y_test_encoded, y_pred_xgb)\n",
    "recall_xgb = recall_score(y_test_encoded, y_pred_xgb)\n",
    "f1_xgb = f1_score(y_test_encoded, y_pred_xgb)\n",
    "auc_xgb = roc_auc_score(y_test_encoded, y_pred_proba_xgb)\n",
    "\n",
    "print(f\"XGBoost - Accuracy: {accuracy_xgb:.4f}\")\n",
    "print(f\"XGBoost - Precision: {precision_xgb:.4f}\")\n",
    "print(f\"XGBoost - Recall: {recall_xgb:.4f}\")\n",
    "print(f\"XGBoost - F1-Score: {f1_xgb:.4f}\")\n",
    "print(f\"XGBoost - AUC: {auc_xgb:.4f}\")\n"
   ]
  },
  {
   "cell_type": "markdown",
   "id": "21956a40-bf83-4e40-9417-6749c1084b0a",
   "metadata": {},
   "source": [
    "## The random forest is the best model\n",
    "\n",
    "The data was unbalanced hence we put more weight on precision, recall and F1 statistics\n",
    "\n",
    "For simplicity, we will not do any hyperparameter tuning"
   ]
  },
  {
   "cell_type": "code",
   "execution_count": 69,
   "id": "2c5d2f57-78a8-4fd0-bae5-3331d0c16148",
   "metadata": {},
   "outputs": [
    {
     "name": "stdout",
     "output_type": "stream",
     "text": [
      "Random Forest model saved to 'outputs/random_forest_model.pkl'\n"
     ]
    }
   ],
   "source": [
    "import pickle\n",
    "\n",
    "# Save the Random Forest model\n",
    "with open(r'..\\outputs\\random_forest_model.pkl', 'wb') as f:\n",
    "    pickle.dump(rf, f)\n",
    "\n",
    "print(\"Random Forest model saved to 'outputs/random_forest_model.pkl'\")\n"
   ]
  },
  {
   "cell_type": "code",
   "execution_count": null,
   "id": "2fd1e705-bd8c-4754-9328-c9b18ee7ea52",
   "metadata": {},
   "outputs": [],
   "source": []
  }
 ],
 "metadata": {
  "kernelspec": {
   "display_name": "Python 3 (ipykernel)",
   "language": "python",
   "name": "python3"
  },
  "language_info": {
   "codemirror_mode": {
    "name": "ipython",
    "version": 3
   },
   "file_extension": ".py",
   "mimetype": "text/x-python",
   "name": "python",
   "nbconvert_exporter": "python",
   "pygments_lexer": "ipython3",
   "version": "3.12.1"
  }
 },
 "nbformat": 4,
 "nbformat_minor": 5
}
